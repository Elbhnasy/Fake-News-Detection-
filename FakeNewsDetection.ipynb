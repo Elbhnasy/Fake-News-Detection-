{
 "cells": [
  {
   "cell_type": "markdown",
   "metadata": {},
   "source": [
    "## 00. Importing the Dependencies"
   ]
  },
  {
   "cell_type": "code",
   "execution_count": 1,
   "metadata": {},
   "outputs": [],
   "source": [
    "import numpy as np\n",
    "import pandas as pd\n",
    "import re\n",
    "import string\n",
    "import nltk\n",
    "from nltk import WordNetLemmatizer\n",
    "from nltk.corpus import stopwords\n",
    "from nltk.stem.porter import PorterStemmer\n",
    "from sklearn.naive_bayes import MultinomialNB\n",
    "from sklearn.linear_model import LogisticRegression\n",
    "from sklearn.svm import SVC\n",
    "from sklearn.ensemble import GradientBoostingClassifier\n",
    "from sklearn.metrics import confusion_matrix\n",
    "import seaborn as sns\n",
    "import matplotlib.pyplot as plt\n",
    "from sklearn.metrics import accuracy_score\n",
    "from sklearn.feature_extraction.text import TfidfVectorizer"
   ]
  },
  {
   "cell_type": "code",
   "execution_count": 2,
   "metadata": {},
   "outputs": [],
   "source": [
    "# import nltk\n",
    "# nltk.download('stopwords')"
   ]
  },
  {
   "cell_type": "code",
   "execution_count": 3,
   "metadata": {},
   "outputs": [],
   "source": [
    "# import nltk\n",
    "# nltk.download('omw-1.4')"
   ]
  },
  {
   "cell_type": "code",
   "execution_count": 4,
   "metadata": {},
   "outputs": [],
   "source": [
    "# import nltk\n",
    "# nltk.download('wordnet')"
   ]
  },
  {
   "cell_type": "code",
   "execution_count": 5,
   "metadata": {},
   "outputs": [],
   "source": [
    "# import nltk\n",
    "# nltk.download('punkt')"
   ]
  },
  {
   "cell_type": "markdown",
   "metadata": {},
   "source": [
    "## 01. Loading Data & EDA ....."
   ]
  },
  {
   "cell_type": "code",
   "execution_count": 6,
   "metadata": {},
   "outputs": [],
   "source": [
    "news_dataset = pd.read_csv('fake-news/train.csv')"
   ]
  },
  {
   "cell_type": "code",
   "execution_count": 7,
   "metadata": {},
   "outputs": [
    {
     "name": "stdout",
     "output_type": "stream",
     "text": [
      "<class 'pandas.core.frame.DataFrame'>\n",
      "RangeIndex: 20800 entries, 0 to 20799\n",
      "Data columns (total 5 columns):\n",
      " #   Column  Non-Null Count  Dtype \n",
      "---  ------  --------------  ----- \n",
      " 0   id      20800 non-null  int64 \n",
      " 1   title   20242 non-null  object\n",
      " 2   author  18843 non-null  object\n",
      " 3   text    20761 non-null  object\n",
      " 4   label   20800 non-null  int64 \n",
      "dtypes: int64(2), object(3)\n",
      "memory usage: 812.6+ KB\n"
     ]
    }
   ],
   "source": [
    "# print information about dataset\n",
    "news_dataset.info()"
   ]
  },
  {
   "cell_type": "code",
   "execution_count": 8,
   "metadata": {},
   "outputs": [
    {
     "data": {
      "text/html": [
       "<div>\n",
       "<style scoped>\n",
       "    .dataframe tbody tr th:only-of-type {\n",
       "        vertical-align: middle;\n",
       "    }\n",
       "\n",
       "    .dataframe tbody tr th {\n",
       "        vertical-align: top;\n",
       "    }\n",
       "\n",
       "    .dataframe thead th {\n",
       "        text-align: right;\n",
       "    }\n",
       "</style>\n",
       "<table border=\"1\" class=\"dataframe\">\n",
       "  <thead>\n",
       "    <tr style=\"text-align: right;\">\n",
       "      <th></th>\n",
       "      <th>id</th>\n",
       "      <th>title</th>\n",
       "      <th>author</th>\n",
       "      <th>text</th>\n",
       "      <th>label</th>\n",
       "    </tr>\n",
       "  </thead>\n",
       "  <tbody>\n",
       "    <tr>\n",
       "      <th>6584</th>\n",
       "      <td>6584</td>\n",
       "      <td>Japanese Leader Offers Condolences in Visit to...</td>\n",
       "      <td>Michael S. Schmidt</td>\n",
       "      <td>PEARL HARBOR, Hawaii  —     years after Imperi...</td>\n",
       "      <td>0</td>\n",
       "    </tr>\n",
       "    <tr>\n",
       "      <th>7759</th>\n",
       "      <td>7759</td>\n",
       "      <td>Witnesses Come Forward Following Facebook Live...</td>\n",
       "      <td>Virginia Hale</td>\n",
       "      <td>A woman who watched in horror at the gang rape...</td>\n",
       "      <td>0</td>\n",
       "    </tr>\n",
       "    <tr>\n",
       "      <th>1462</th>\n",
       "      <td>1462</td>\n",
       "      <td>Anti-Trump PAC files complaint against FBI for...</td>\n",
       "      <td>LU Staff</td>\n",
       "      <td>Print \\nThe Democratic Coalition Against Trump...</td>\n",
       "      <td>1</td>\n",
       "    </tr>\n",
       "    <tr>\n",
       "      <th>3674</th>\n",
       "      <td>3674</td>\n",
       "      <td>Washington Post Cries Uncle: Stop Using ’Taint...</td>\n",
       "      <td>Breitbart News</td>\n",
       "      <td>Writing at the Washington Post, Margaret Sulli...</td>\n",
       "      <td>0</td>\n",
       "    </tr>\n",
       "    <tr>\n",
       "      <th>19161</th>\n",
       "      <td>19161</td>\n",
       "      <td>A Parable Of The Thanksgiving Turkey: He Never...</td>\n",
       "      <td>Mac Slavo</td>\n",
       "      <td>\\nThe Black Swan Theory is used by Nassim Nich...</td>\n",
       "      <td>1</td>\n",
       "    </tr>\n",
       "  </tbody>\n",
       "</table>\n",
       "</div>"
      ],
      "text/plain": [
       "          id                                              title  \\\n",
       "6584    6584  Japanese Leader Offers Condolences in Visit to...   \n",
       "7759    7759  Witnesses Come Forward Following Facebook Live...   \n",
       "1462    1462  Anti-Trump PAC files complaint against FBI for...   \n",
       "3674    3674  Washington Post Cries Uncle: Stop Using ’Taint...   \n",
       "19161  19161  A Parable Of The Thanksgiving Turkey: He Never...   \n",
       "\n",
       "                   author                                               text  \\\n",
       "6584   Michael S. Schmidt  PEARL HARBOR, Hawaii  —     years after Imperi...   \n",
       "7759        Virginia Hale  A woman who watched in horror at the gang rape...   \n",
       "1462             LU Staff  Print \\nThe Democratic Coalition Against Trump...   \n",
       "3674       Breitbart News  Writing at the Washington Post, Margaret Sulli...   \n",
       "19161           Mac Slavo  \\nThe Black Swan Theory is used by Nassim Nich...   \n",
       "\n",
       "       label  \n",
       "6584       0  \n",
       "7759       0  \n",
       "1462       1  \n",
       "3674       0  \n",
       "19161      1  "
      ]
     },
     "execution_count": 8,
     "metadata": {},
     "output_type": "execute_result"
    }
   ],
   "source": [
    "# print a sampel rows of the dataframe\n",
    "news_dataset.sample(5)"
   ]
  },
  {
   "cell_type": "code",
   "execution_count": 9,
   "metadata": {},
   "outputs": [
    {
     "data": {
      "text/plain": [
       "id           0\n",
       "title      558\n",
       "author    1957\n",
       "text        39\n",
       "label        0\n",
       "dtype: int64"
      ]
     },
     "execution_count": 9,
     "metadata": {},
     "output_type": "execute_result"
    }
   ],
   "source": [
    "# counting the number of missing values in the dataset\n",
    "news_dataset.isnull().sum()"
   ]
  },
  {
   "cell_type": "code",
   "execution_count": 10,
   "metadata": {},
   "outputs": [],
   "source": [
    "# replacing the null values with empty string\n",
    "news_dataset = news_dataset.fillna('')"
   ]
  },
  {
   "cell_type": "code",
   "execution_count": 11,
   "metadata": {},
   "outputs": [],
   "source": [
    "# merging the author name and news title\n",
    "news_dataset['content'] = news_dataset['author']+' '+news_dataset['title']"
   ]
  },
  {
   "cell_type": "code",
   "execution_count": 12,
   "metadata": {},
   "outputs": [
    {
     "data": {
      "text/html": [
       "<div>\n",
       "<style scoped>\n",
       "    .dataframe tbody tr th:only-of-type {\n",
       "        vertical-align: middle;\n",
       "    }\n",
       "\n",
       "    .dataframe tbody tr th {\n",
       "        vertical-align: top;\n",
       "    }\n",
       "\n",
       "    .dataframe thead th {\n",
       "        text-align: right;\n",
       "    }\n",
       "</style>\n",
       "<table border=\"1\" class=\"dataframe\">\n",
       "  <thead>\n",
       "    <tr style=\"text-align: right;\">\n",
       "      <th></th>\n",
       "      <th>id</th>\n",
       "      <th>title</th>\n",
       "      <th>author</th>\n",
       "      <th>text</th>\n",
       "      <th>label</th>\n",
       "      <th>content</th>\n",
       "    </tr>\n",
       "  </thead>\n",
       "  <tbody>\n",
       "    <tr>\n",
       "      <th>10744</th>\n",
       "      <td>10744</td>\n",
       "      <td>California Secessionists to Meet at Capitol Da...</td>\n",
       "      <td></td>\n",
       "      <td>\\nBy Joseph Jankowski \\nAn organization which ...</td>\n",
       "      <td>1</td>\n",
       "      <td>California Secessionists to Meet at Capitol D...</td>\n",
       "    </tr>\n",
       "    <tr>\n",
       "      <th>17376</th>\n",
       "      <td>17376</td>\n",
       "      <td>Obama: ‘We Have Not Had a Major Scandal’ in My...</td>\n",
       "      <td>admin</td>\n",
       "      <td>by CHARLIE SPIERING President Barack Obama arg...</td>\n",
       "      <td>1</td>\n",
       "      <td>admin Obama: ‘We Have Not Had a Major Scandal’...</td>\n",
       "    </tr>\n",
       "    <tr>\n",
       "      <th>15459</th>\n",
       "      <td>15459</td>\n",
       "      <td>Review: ‘Hairspray Live!’ Had Power Voices but...</td>\n",
       "      <td>Neil Genzlinger</td>\n",
       "      <td>For “Hairspray Live!” on Wednesday night, NBC ...</td>\n",
       "      <td>0</td>\n",
       "      <td>Neil Genzlinger Review: ‘Hairspray Live!’ Had ...</td>\n",
       "    </tr>\n",
       "    <tr>\n",
       "      <th>10262</th>\n",
       "      <td>10262</td>\n",
       "      <td>Study: Breitbart Dominated Right Wing Coverage...</td>\n",
       "      <td>Allum Bokhari</td>\n",
       "      <td>A study from the Columbia Journalism Review (C...</td>\n",
       "      <td>0</td>\n",
       "      <td>Allum Bokhari Study: Breitbart Dominated Right...</td>\n",
       "    </tr>\n",
       "    <tr>\n",
       "      <th>1335</th>\n",
       "      <td>1335</td>\n",
       "      <td>Extended Interview: Jorge Ramos Talks Race wit...</td>\n",
       "      <td>Henry Wolff</td>\n",
       "      <td>American Renaissance, October 31, 2016 Share T...</td>\n",
       "      <td>1</td>\n",
       "      <td>Henry Wolff Extended Interview: Jorge Ramos Ta...</td>\n",
       "    </tr>\n",
       "  </tbody>\n",
       "</table>\n",
       "</div>"
      ],
      "text/plain": [
       "          id                                              title  \\\n",
       "10744  10744  California Secessionists to Meet at Capitol Da...   \n",
       "17376  17376  Obama: ‘We Have Not Had a Major Scandal’ in My...   \n",
       "15459  15459  Review: ‘Hairspray Live!’ Had Power Voices but...   \n",
       "10262  10262  Study: Breitbart Dominated Right Wing Coverage...   \n",
       "1335    1335  Extended Interview: Jorge Ramos Talks Race wit...   \n",
       "\n",
       "                author                                               text  \\\n",
       "10744                   \\nBy Joseph Jankowski \\nAn organization which ...   \n",
       "17376            admin  by CHARLIE SPIERING President Barack Obama arg...   \n",
       "15459  Neil Genzlinger  For “Hairspray Live!” on Wednesday night, NBC ...   \n",
       "10262    Allum Bokhari  A study from the Columbia Journalism Review (C...   \n",
       "1335       Henry Wolff  American Renaissance, October 31, 2016 Share T...   \n",
       "\n",
       "       label                                            content  \n",
       "10744      1   California Secessionists to Meet at Capitol D...  \n",
       "17376      1  admin Obama: ‘We Have Not Had a Major Scandal’...  \n",
       "15459      0  Neil Genzlinger Review: ‘Hairspray Live!’ Had ...  \n",
       "10262      0  Allum Bokhari Study: Breitbart Dominated Right...  \n",
       "1335       1  Henry Wolff Extended Interview: Jorge Ramos Ta...  "
      ]
     },
     "execution_count": 12,
     "metadata": {},
     "output_type": "execute_result"
    }
   ],
   "source": [
    "# print a sampel rows of the dataframe\n",
    "news_dataset.sample(5)"
   ]
  },
  {
   "cell_type": "code",
   "execution_count": 13,
   "metadata": {},
   "outputs": [
    {
     "name": "stdout",
     "output_type": "stream",
     "text": [
      "0        Darrell Lucus House Dem Aide: We Didn’t Even S...\n",
      "1        Daniel J. Flynn FLYNN: Hillary Clinton, Big Wo...\n",
      "2        Consortiumnews.com Why the Truth Might Get You...\n",
      "3        Jessica Purkiss 15 Civilians Killed In Single ...\n",
      "4        Howard Portnoy Iranian woman jailed for fictio...\n",
      "                               ...                        \n",
      "20795    Jerome Hudson Rapper T.I.: Trump a ’Poster Chi...\n",
      "20796    Benjamin Hoffman N.F.L. Playoffs: Schedule, Ma...\n",
      "20797    Michael J. de la Merced and Rachel Abrams Macy...\n",
      "20798    Alex Ansary NATO, Russia To Hold Parallel Exer...\n",
      "20799              David Swanson What Keeps the F-35 Alive\n",
      "Name: content, Length: 20800, dtype: object\n"
     ]
    }
   ],
   "source": [
    "print(news_dataset['content'])"
   ]
  },
  {
   "cell_type": "markdown",
   "metadata": {},
   "source": [
    "## 02. Preprocessing& normalize newes_dataset"
   ]
  },
  {
   "cell_type": "code",
   "execution_count": 14,
   "metadata": {},
   "outputs": [
    {
     "name": "stdout",
     "output_type": "stream",
     "text": [
      "['i', 'me', 'my', 'myself', 'we', 'our', 'ours', 'ourselves', 'you', \"you're\", \"you've\", \"you'll\", \"you'd\", 'your', 'yours', 'yourself', 'yourselves', 'he', 'him', 'his', 'himself', 'she', \"she's\", 'her', 'hers', 'herself', 'it', \"it's\", 'its', 'itself', 'they', 'them', 'their', 'theirs', 'themselves', 'what', 'which', 'who', 'whom', 'this', 'that', \"that'll\", 'these', 'those', 'am', 'is', 'are', 'was', 'were', 'be', 'been', 'being', 'have', 'has', 'had', 'having', 'do', 'does', 'did', 'doing', 'a', 'an', 'the', 'and', 'but', 'if', 'or', 'because', 'as', 'until', 'while', 'of', 'at', 'by', 'for', 'with', 'about', 'against', 'between', 'into', 'through', 'during', 'before', 'after', 'above', 'below', 'to', 'from', 'up', 'down', 'in', 'out', 'on', 'off', 'over', 'under', 'again', 'further', 'then', 'once', 'here', 'there', 'when', 'where', 'why', 'how', 'all', 'any', 'both', 'each', 'few', 'more', 'most', 'other', 'some', 'such', 'no', 'nor', 'not', 'only', 'own', 'same', 'so', 'than', 'too', 'very', 's', 't', 'can', 'will', 'just', 'don', \"don't\", 'should', \"should've\", 'now', 'd', 'll', 'm', 'o', 're', 've', 'y', 'ain', 'aren', \"aren't\", 'couldn', \"couldn't\", 'didn', \"didn't\", 'doesn', \"doesn't\", 'hadn', \"hadn't\", 'hasn', \"hasn't\", 'haven', \"haven't\", 'isn', \"isn't\", 'ma', 'mightn', \"mightn't\", 'mustn', \"mustn't\", 'needn', \"needn't\", 'shan', \"shan't\", 'shouldn', \"shouldn't\", 'wasn', \"wasn't\", 'weren', \"weren't\", 'won', \"won't\", 'wouldn', \"wouldn't\"]\n"
     ]
    }
   ],
   "source": [
    "# printing the stopwords in English\n",
    "print(stopwords.words('english'))"
   ]
  },
  {
   "cell_type": "code",
   "execution_count": 15,
   "metadata": {},
   "outputs": [
    {
     "data": {
      "text/plain": [
       "'!\"#$%&\\'()*+,-./:;<=>?@[\\\\]^_`{|}~'"
      ]
     },
     "execution_count": 15,
     "metadata": {},
     "output_type": "execute_result"
    }
   ],
   "source": [
    "string.punctuation"
   ]
  },
  {
   "cell_type": "code",
   "execution_count": 16,
   "metadata": {},
   "outputs": [],
   "source": [
    "\n",
    "port_stem = PorterStemmer()\n",
    "lemmatizer = WordNetLemmatizer()"
   ]
  },
  {
   "cell_type": "code",
   "execution_count": 17,
   "metadata": {},
   "outputs": [],
   "source": [
    "# Function for entire text transformation\n",
    "\n",
    "def text_preprocessing(text): \n",
    "    # Convert text into lowercase\n",
    "    text = text.lower()\n",
    "    # lemmaization \n",
    "    #lemmaization_text=lemmatizer.lemmatize(text,pos='v')\n",
    "    \n",
    "    #segmentation\n",
    "    #######sent_text=nltk.sent_tokenize(text)###########\n",
    "    \n",
    "    # Tokenize text into list\n",
    "    tokenize_text = nltk.word_tokenize(text)\n",
    "\n",
    "    # remove Stopwords\n",
    "    text_without_stopwords = [i for i in tokenize_text if i not in stopwords.words('english')]\n",
    "    \n",
    "    # Remove Punctuation\n",
    "    text_without_punc = [i for i in text_without_stopwords if i not in string.punctuation]\n",
    "    \n",
    "    # fetch only alphanumeric values and apply stemming on that word\n",
    "    transformed_text = [port_stem.stem(i) for i in text_without_punc if i.isalnum() == True]\n",
    "    \n",
    "    return \" \".join(transformed_text)"
   ]
  },
  {
   "cell_type": "code",
   "execution_count": 18,
   "metadata": {},
   "outputs": [],
   "source": [
    "# Let's Apply This Transformation Function on Our Content Column\n",
    "news_dataset['transformed_content'] = news_dataset['content'].apply(text_preprocessing)"
   ]
  },
  {
   "cell_type": "code",
   "execution_count": 19,
   "metadata": {},
   "outputs": [],
   "source": [
    "# Drop title author and old content column\n",
    "preproceesing_data = news_dataset.drop(['id','text','title','author','content'],axis=1)"
   ]
  },
  {
   "cell_type": "code",
   "execution_count": 20,
   "metadata": {
    "scrolled": true
   },
   "outputs": [
    {
     "data": {
      "text/html": [
       "<div>\n",
       "<style scoped>\n",
       "    .dataframe tbody tr th:only-of-type {\n",
       "        vertical-align: middle;\n",
       "    }\n",
       "\n",
       "    .dataframe tbody tr th {\n",
       "        vertical-align: top;\n",
       "    }\n",
       "\n",
       "    .dataframe thead th {\n",
       "        text-align: right;\n",
       "    }\n",
       "</style>\n",
       "<table border=\"1\" class=\"dataframe\">\n",
       "  <thead>\n",
       "    <tr style=\"text-align: right;\">\n",
       "      <th></th>\n",
       "      <th>label</th>\n",
       "      <th>transformed_content</th>\n",
       "    </tr>\n",
       "  </thead>\n",
       "  <tbody>\n",
       "    <tr>\n",
       "      <th>0</th>\n",
       "      <td>1</td>\n",
       "      <td>darrel lucu hous dem aid even see comey letter...</td>\n",
       "    </tr>\n",
       "    <tr>\n",
       "      <th>1</th>\n",
       "      <td>0</td>\n",
       "      <td>daniel flynn flynn hillari clinton big woman c...</td>\n",
       "    </tr>\n",
       "    <tr>\n",
       "      <th>2</th>\n",
       "      <td>1</td>\n",
       "      <td>truth might get fire</td>\n",
       "    </tr>\n",
       "    <tr>\n",
       "      <th>3</th>\n",
       "      <td>1</td>\n",
       "      <td>jessica purkiss 15 civilian kill singl us airs...</td>\n",
       "    </tr>\n",
       "    <tr>\n",
       "      <th>4</th>\n",
       "      <td>1</td>\n",
       "      <td>howard portnoy iranian woman jail fiction unpu...</td>\n",
       "    </tr>\n",
       "  </tbody>\n",
       "</table>\n",
       "</div>"
      ],
      "text/plain": [
       "   label                                transformed_content\n",
       "0      1  darrel lucu hous dem aid even see comey letter...\n",
       "1      0  daniel flynn flynn hillari clinton big woman c...\n",
       "2      1                               truth might get fire\n",
       "3      1  jessica purkiss 15 civilian kill singl us airs...\n",
       "4      1  howard portnoy iranian woman jail fiction unpu..."
      ]
     },
     "execution_count": 20,
     "metadata": {},
     "output_type": "execute_result"
    }
   ],
   "source": [
    "preproceesing_data.head(5)"
   ]
  },
  {
   "cell_type": "markdown",
   "metadata": {},
   "source": [
    "## 2.1 split Dataset to \"X\" for Inputs \"y\" for target"
   ]
  },
  {
   "cell_type": "code",
   "execution_count": 21,
   "metadata": {},
   "outputs": [],
   "source": [
    "X=news_dataset.transformed_content.values\n",
    "y=news_dataset.label.values"
   ]
  },
  {
   "cell_type": "markdown",
   "metadata": {},
   "source": [
    "## 03. Feature Extraction"
   ]
  },
  {
   "cell_type": "markdown",
   "metadata": {},
   "source": [
    "### 3.1 Binary vectorlization"
   ]
  },
  {
   "cell_type": "markdown",
   "metadata": {},
   "source": [
    " **Convert a collection of text documents to a matrix of token counts.**"
   ]
  },
  {
   "cell_type": "code",
   "execution_count": 22,
   "metadata": {},
   "outputs": [],
   "source": [
    " from sklearn.feature_extraction.text import CountVectorizer\n",
    "binary_vectorizer = CountVectorizer(binary=True)\n",
    "binary_vectorizer.fit(X)\n",
    "\n",
    "X_Binaryvectorlizing = binary_vectorizer.transform(X)"
   ]
  },
  {
   "cell_type": "code",
   "execution_count": 23,
   "metadata": {},
   "outputs": [
    {
     "name": "stdout",
     "output_type": "stream",
     "text": [
      "  (0, 690)\t1\n",
      "  (0, 2881)\t1\n",
      "  (0, 3339)\t1\n",
      "  (0, 3970)\t1\n",
      "  (0, 4157)\t1\n",
      "  (0, 5344)\t1\n",
      "  (0, 7348)\t1\n",
      "  (0, 8032)\t1\n",
      "  (0, 8953)\t1\n",
      "  (0, 9216)\t1\n",
      "  (0, 13725)\t1\n",
      "  (0, 15888)\t1\n",
      "  (1, 1908)\t1\n",
      "  (1, 2297)\t1\n",
      "  (1, 2623)\t1\n",
      "  (1, 3195)\t1\n",
      "  (1, 3938)\t1\n",
      "  (1, 5870)\t1\n",
      "  (1, 7168)\t1\n",
      "  (1, 16982)\t1\n",
      "  (2, 5758)\t1\n",
      "  (2, 6338)\t1\n",
      "  (2, 9931)\t1\n",
      "  (2, 15812)\t1\n",
      "  (3, 68)\t1\n",
      "  :\t:\n",
      "  (20797, 4012)\t1\n",
      "  (20797, 7384)\t1\n",
      "  (20797, 8699)\t1\n",
      "  (20797, 9305)\t1\n",
      "  (20797, 9833)\t1\n",
      "  (20797, 9900)\t1\n",
      "  (20797, 10603)\t1\n",
      "  (20797, 12418)\t1\n",
      "  (20797, 12616)\t1\n",
      "  (20797, 13380)\t1\n",
      "  (20797, 15191)\t1\n",
      "  (20797, 15503)\t1\n",
      "  (20797, 17176)\t1\n",
      "  (20798, 770)\t1\n",
      "  (20798, 1007)\t1\n",
      "  (20798, 1540)\t1\n",
      "  (20798, 5403)\t1\n",
      "  (20798, 7235)\t1\n",
      "  (20798, 10483)\t1\n",
      "  (20798, 11327)\t1\n",
      "  (20798, 13297)\t1\n",
      "  (20799, 798)\t1\n",
      "  (20799, 3993)\t1\n",
      "  (20799, 8378)\t1\n",
      "  (20799, 15072)\t1\n"
     ]
    }
   ],
   "source": [
    "print(X_Binaryvectorlizing)"
   ]
  },
  {
   "cell_type": "code",
   "execution_count": 24,
   "metadata": {},
   "outputs": [
    {
     "data": {
      "text/html": [
       "<div>\n",
       "<style scoped>\n",
       "    .dataframe tbody tr th:only-of-type {\n",
       "        vertical-align: middle;\n",
       "    }\n",
       "\n",
       "    .dataframe tbody tr th {\n",
       "        vertical-align: top;\n",
       "    }\n",
       "\n",
       "    .dataframe thead th {\n",
       "        text-align: right;\n",
       "    }\n",
       "</style>\n",
       "<table border=\"1\" class=\"dataframe\">\n",
       "  <thead>\n",
       "    <tr style=\"text-align: right;\">\n",
       "      <th></th>\n",
       "      <th>darrel</th>\n",
       "      <th>lucu</th>\n",
       "      <th>hous</th>\n",
       "      <th>dem</th>\n",
       "      <th>aid</th>\n",
       "      <th>even</th>\n",
       "      <th>see</th>\n",
       "      <th>comey</th>\n",
       "      <th>letter</th>\n",
       "      <th>jason</th>\n",
       "      <th>...</th>\n",
       "      <th>koala</th>\n",
       "      <th>decompos</th>\n",
       "      <th>samuelson</th>\n",
       "      <th>proclam</th>\n",
       "      <th>instil</th>\n",
       "      <th>004</th>\n",
       "      <th>xfrozenlpx</th>\n",
       "      <th>airman</th>\n",
       "      <th>kratom</th>\n",
       "      <th>ghouta</th>\n",
       "    </tr>\n",
       "  </thead>\n",
       "  <tbody>\n",
       "    <tr>\n",
       "      <th>0</th>\n",
       "      <td>0</td>\n",
       "      <td>0</td>\n",
       "      <td>0</td>\n",
       "      <td>0</td>\n",
       "      <td>0</td>\n",
       "      <td>0</td>\n",
       "      <td>0</td>\n",
       "      <td>0</td>\n",
       "      <td>0</td>\n",
       "      <td>0</td>\n",
       "      <td>...</td>\n",
       "      <td>0</td>\n",
       "      <td>0</td>\n",
       "      <td>0</td>\n",
       "      <td>0</td>\n",
       "      <td>0</td>\n",
       "      <td>0</td>\n",
       "      <td>0</td>\n",
       "      <td>0</td>\n",
       "      <td>0</td>\n",
       "      <td>0</td>\n",
       "    </tr>\n",
       "    <tr>\n",
       "      <th>1</th>\n",
       "      <td>0</td>\n",
       "      <td>0</td>\n",
       "      <td>0</td>\n",
       "      <td>0</td>\n",
       "      <td>0</td>\n",
       "      <td>0</td>\n",
       "      <td>0</td>\n",
       "      <td>0</td>\n",
       "      <td>0</td>\n",
       "      <td>0</td>\n",
       "      <td>...</td>\n",
       "      <td>0</td>\n",
       "      <td>0</td>\n",
       "      <td>0</td>\n",
       "      <td>0</td>\n",
       "      <td>0</td>\n",
       "      <td>0</td>\n",
       "      <td>0</td>\n",
       "      <td>0</td>\n",
       "      <td>0</td>\n",
       "      <td>0</td>\n",
       "    </tr>\n",
       "    <tr>\n",
       "      <th>2</th>\n",
       "      <td>0</td>\n",
       "      <td>0</td>\n",
       "      <td>0</td>\n",
       "      <td>0</td>\n",
       "      <td>0</td>\n",
       "      <td>0</td>\n",
       "      <td>0</td>\n",
       "      <td>0</td>\n",
       "      <td>0</td>\n",
       "      <td>0</td>\n",
       "      <td>...</td>\n",
       "      <td>0</td>\n",
       "      <td>0</td>\n",
       "      <td>0</td>\n",
       "      <td>0</td>\n",
       "      <td>0</td>\n",
       "      <td>0</td>\n",
       "      <td>0</td>\n",
       "      <td>0</td>\n",
       "      <td>0</td>\n",
       "      <td>0</td>\n",
       "    </tr>\n",
       "    <tr>\n",
       "      <th>3</th>\n",
       "      <td>0</td>\n",
       "      <td>0</td>\n",
       "      <td>0</td>\n",
       "      <td>0</td>\n",
       "      <td>0</td>\n",
       "      <td>0</td>\n",
       "      <td>0</td>\n",
       "      <td>0</td>\n",
       "      <td>0</td>\n",
       "      <td>0</td>\n",
       "      <td>...</td>\n",
       "      <td>0</td>\n",
       "      <td>0</td>\n",
       "      <td>0</td>\n",
       "      <td>0</td>\n",
       "      <td>0</td>\n",
       "      <td>0</td>\n",
       "      <td>0</td>\n",
       "      <td>0</td>\n",
       "      <td>0</td>\n",
       "      <td>0</td>\n",
       "    </tr>\n",
       "    <tr>\n",
       "      <th>4</th>\n",
       "      <td>0</td>\n",
       "      <td>0</td>\n",
       "      <td>0</td>\n",
       "      <td>0</td>\n",
       "      <td>0</td>\n",
       "      <td>0</td>\n",
       "      <td>0</td>\n",
       "      <td>0</td>\n",
       "      <td>0</td>\n",
       "      <td>0</td>\n",
       "      <td>...</td>\n",
       "      <td>0</td>\n",
       "      <td>0</td>\n",
       "      <td>0</td>\n",
       "      <td>0</td>\n",
       "      <td>0</td>\n",
       "      <td>0</td>\n",
       "      <td>0</td>\n",
       "      <td>0</td>\n",
       "      <td>0</td>\n",
       "      <td>0</td>\n",
       "    </tr>\n",
       "    <tr>\n",
       "      <th>...</th>\n",
       "      <td>...</td>\n",
       "      <td>...</td>\n",
       "      <td>...</td>\n",
       "      <td>...</td>\n",
       "      <td>...</td>\n",
       "      <td>...</td>\n",
       "      <td>...</td>\n",
       "      <td>...</td>\n",
       "      <td>...</td>\n",
       "      <td>...</td>\n",
       "      <td>...</td>\n",
       "      <td>...</td>\n",
       "      <td>...</td>\n",
       "      <td>...</td>\n",
       "      <td>...</td>\n",
       "      <td>...</td>\n",
       "      <td>...</td>\n",
       "      <td>...</td>\n",
       "      <td>...</td>\n",
       "      <td>...</td>\n",
       "      <td>...</td>\n",
       "    </tr>\n",
       "    <tr>\n",
       "      <th>20795</th>\n",
       "      <td>0</td>\n",
       "      <td>0</td>\n",
       "      <td>0</td>\n",
       "      <td>0</td>\n",
       "      <td>0</td>\n",
       "      <td>0</td>\n",
       "      <td>0</td>\n",
       "      <td>0</td>\n",
       "      <td>0</td>\n",
       "      <td>0</td>\n",
       "      <td>...</td>\n",
       "      <td>0</td>\n",
       "      <td>0</td>\n",
       "      <td>0</td>\n",
       "      <td>0</td>\n",
       "      <td>0</td>\n",
       "      <td>0</td>\n",
       "      <td>0</td>\n",
       "      <td>0</td>\n",
       "      <td>0</td>\n",
       "      <td>0</td>\n",
       "    </tr>\n",
       "    <tr>\n",
       "      <th>20796</th>\n",
       "      <td>0</td>\n",
       "      <td>0</td>\n",
       "      <td>0</td>\n",
       "      <td>0</td>\n",
       "      <td>0</td>\n",
       "      <td>0</td>\n",
       "      <td>0</td>\n",
       "      <td>0</td>\n",
       "      <td>0</td>\n",
       "      <td>0</td>\n",
       "      <td>...</td>\n",
       "      <td>0</td>\n",
       "      <td>0</td>\n",
       "      <td>0</td>\n",
       "      <td>0</td>\n",
       "      <td>0</td>\n",
       "      <td>0</td>\n",
       "      <td>0</td>\n",
       "      <td>0</td>\n",
       "      <td>0</td>\n",
       "      <td>0</td>\n",
       "    </tr>\n",
       "    <tr>\n",
       "      <th>20797</th>\n",
       "      <td>0</td>\n",
       "      <td>0</td>\n",
       "      <td>0</td>\n",
       "      <td>0</td>\n",
       "      <td>0</td>\n",
       "      <td>0</td>\n",
       "      <td>0</td>\n",
       "      <td>0</td>\n",
       "      <td>0</td>\n",
       "      <td>0</td>\n",
       "      <td>...</td>\n",
       "      <td>0</td>\n",
       "      <td>0</td>\n",
       "      <td>0</td>\n",
       "      <td>0</td>\n",
       "      <td>0</td>\n",
       "      <td>0</td>\n",
       "      <td>0</td>\n",
       "      <td>0</td>\n",
       "      <td>0</td>\n",
       "      <td>0</td>\n",
       "    </tr>\n",
       "    <tr>\n",
       "      <th>20798</th>\n",
       "      <td>0</td>\n",
       "      <td>0</td>\n",
       "      <td>0</td>\n",
       "      <td>0</td>\n",
       "      <td>0</td>\n",
       "      <td>0</td>\n",
       "      <td>0</td>\n",
       "      <td>0</td>\n",
       "      <td>0</td>\n",
       "      <td>0</td>\n",
       "      <td>...</td>\n",
       "      <td>0</td>\n",
       "      <td>0</td>\n",
       "      <td>0</td>\n",
       "      <td>0</td>\n",
       "      <td>0</td>\n",
       "      <td>0</td>\n",
       "      <td>0</td>\n",
       "      <td>0</td>\n",
       "      <td>0</td>\n",
       "      <td>0</td>\n",
       "    </tr>\n",
       "    <tr>\n",
       "      <th>20799</th>\n",
       "      <td>0</td>\n",
       "      <td>0</td>\n",
       "      <td>0</td>\n",
       "      <td>0</td>\n",
       "      <td>0</td>\n",
       "      <td>0</td>\n",
       "      <td>0</td>\n",
       "      <td>0</td>\n",
       "      <td>0</td>\n",
       "      <td>0</td>\n",
       "      <td>...</td>\n",
       "      <td>0</td>\n",
       "      <td>0</td>\n",
       "      <td>0</td>\n",
       "      <td>0</td>\n",
       "      <td>0</td>\n",
       "      <td>0</td>\n",
       "      <td>0</td>\n",
       "      <td>0</td>\n",
       "      <td>0</td>\n",
       "      <td>0</td>\n",
       "    </tr>\n",
       "  </tbody>\n",
       "</table>\n",
       "<p>20800 rows × 18306 columns</p>\n",
       "</div>"
      ],
      "text/plain": [
       "       darrel  lucu  hous  dem  aid  even  see  comey  letter  jason  ...  \\\n",
       "0           0     0     0    0    0     0    0      0       0      0  ...   \n",
       "1           0     0     0    0    0     0    0      0       0      0  ...   \n",
       "2           0     0     0    0    0     0    0      0       0      0  ...   \n",
       "3           0     0     0    0    0     0    0      0       0      0  ...   \n",
       "4           0     0     0    0    0     0    0      0       0      0  ...   \n",
       "...       ...   ...   ...  ...  ...   ...  ...    ...     ...    ...  ...   \n",
       "20795       0     0     0    0    0     0    0      0       0      0  ...   \n",
       "20796       0     0     0    0    0     0    0      0       0      0  ...   \n",
       "20797       0     0     0    0    0     0    0      0       0      0  ...   \n",
       "20798       0     0     0    0    0     0    0      0       0      0  ...   \n",
       "20799       0     0     0    0    0     0    0      0       0      0  ...   \n",
       "\n",
       "       koala  decompos  samuelson  proclam  instil  004  xfrozenlpx  airman  \\\n",
       "0          0         0          0        0       0    0           0       0   \n",
       "1          0         0          0        0       0    0           0       0   \n",
       "2          0         0          0        0       0    0           0       0   \n",
       "3          0         0          0        0       0    0           0       0   \n",
       "4          0         0          0        0       0    0           0       0   \n",
       "...      ...       ...        ...      ...     ...  ...         ...     ...   \n",
       "20795      0         0          0        0       0    0           0       0   \n",
       "20796      0         0          0        0       0    0           0       0   \n",
       "20797      0         0          0        0       0    0           0       0   \n",
       "20798      0         0          0        0       0    0           0       0   \n",
       "20799      0         0          0        0       0    0           0       0   \n",
       "\n",
       "       kratom  ghouta  \n",
       "0           0       0  \n",
       "1           0       0  \n",
       "2           0       0  \n",
       "3           0       0  \n",
       "4           0       0  \n",
       "...       ...     ...  \n",
       "20795       0       0  \n",
       "20796       0       0  \n",
       "20797       0       0  \n",
       "20798       0       0  \n",
       "20799       0       0  \n",
       "\n",
       "[20800 rows x 18306 columns]"
      ]
     },
     "execution_count": 24,
     "metadata": {},
     "output_type": "execute_result"
    }
   ],
   "source": [
    "import pandas as pd \n",
    "pd.DataFrame(X_Binaryvectorlizing.toarray(),columns=binary_vectorizer.vocabulary_.keys())"
   ]
  },
  {
   "cell_type": "markdown",
   "metadata": {},
   "source": [
    "### 3.2 Count vectorlization "
   ]
  },
  {
   "cell_type": "markdown",
   "metadata": {},
   "source": [
    "**Convert a collection of text documents to a matrix of token counts.**"
   ]
  },
  {
   "cell_type": "code",
   "execution_count": 25,
   "metadata": {},
   "outputs": [],
   "source": [
    " from sklearn.feature_extraction.text import CountVectorizer\n",
    "countvectorizer = CountVectorizer(binary=False)\n",
    "countvectorizer.fit(X)\n",
    "X_countvectorlizing = countvectorizer.transform(X)"
   ]
  },
  {
   "cell_type": "code",
   "execution_count": 26,
   "metadata": {},
   "outputs": [
    {
     "name": "stdout",
     "output_type": "stream",
     "text": [
      "  (0, 690)\t1\n",
      "  (0, 2881)\t1\n",
      "  (0, 3339)\t1\n",
      "  (0, 3970)\t1\n",
      "  (0, 4157)\t1\n",
      "  (0, 5344)\t1\n",
      "  (0, 7348)\t1\n",
      "  (0, 8032)\t1\n",
      "  (0, 8953)\t1\n",
      "  (0, 9216)\t1\n",
      "  (0, 13725)\t1\n",
      "  (0, 15888)\t1\n",
      "  (1, 1908)\t1\n",
      "  (1, 2297)\t1\n",
      "  (1, 2623)\t1\n",
      "  (1, 3195)\t1\n",
      "  (1, 3938)\t1\n",
      "  (1, 5870)\t2\n",
      "  (1, 7168)\t1\n",
      "  (1, 16982)\t1\n",
      "  (2, 5758)\t1\n",
      "  (2, 6338)\t1\n",
      "  (2, 9931)\t1\n",
      "  (2, 15812)\t1\n",
      "  (3, 68)\t1\n",
      "  :\t:\n",
      "  (20797, 4012)\t1\n",
      "  (20797, 7384)\t1\n",
      "  (20797, 8699)\t1\n",
      "  (20797, 9305)\t1\n",
      "  (20797, 9833)\t1\n",
      "  (20797, 9900)\t1\n",
      "  (20797, 10603)\t1\n",
      "  (20797, 12418)\t1\n",
      "  (20797, 12616)\t1\n",
      "  (20797, 13380)\t1\n",
      "  (20797, 15191)\t1\n",
      "  (20797, 15503)\t1\n",
      "  (20797, 17176)\t1\n",
      "  (20798, 770)\t1\n",
      "  (20798, 1007)\t1\n",
      "  (20798, 1540)\t1\n",
      "  (20798, 5403)\t1\n",
      "  (20798, 7235)\t1\n",
      "  (20798, 10483)\t1\n",
      "  (20798, 11327)\t1\n",
      "  (20798, 13297)\t1\n",
      "  (20799, 798)\t1\n",
      "  (20799, 3993)\t1\n",
      "  (20799, 8378)\t1\n",
      "  (20799, 15072)\t1\n"
     ]
    }
   ],
   "source": [
    "print(X_countvectorlizing)"
   ]
  },
  {
   "cell_type": "code",
   "execution_count": 27,
   "metadata": {},
   "outputs": [
    {
     "data": {
      "text/html": [
       "<div>\n",
       "<style scoped>\n",
       "    .dataframe tbody tr th:only-of-type {\n",
       "        vertical-align: middle;\n",
       "    }\n",
       "\n",
       "    .dataframe tbody tr th {\n",
       "        vertical-align: top;\n",
       "    }\n",
       "\n",
       "    .dataframe thead th {\n",
       "        text-align: right;\n",
       "    }\n",
       "</style>\n",
       "<table border=\"1\" class=\"dataframe\">\n",
       "  <thead>\n",
       "    <tr style=\"text-align: right;\">\n",
       "      <th></th>\n",
       "      <th>darrel</th>\n",
       "      <th>lucu</th>\n",
       "      <th>hous</th>\n",
       "      <th>dem</th>\n",
       "      <th>aid</th>\n",
       "      <th>even</th>\n",
       "      <th>see</th>\n",
       "      <th>comey</th>\n",
       "      <th>letter</th>\n",
       "      <th>jason</th>\n",
       "      <th>...</th>\n",
       "      <th>koala</th>\n",
       "      <th>decompos</th>\n",
       "      <th>samuelson</th>\n",
       "      <th>proclam</th>\n",
       "      <th>instil</th>\n",
       "      <th>004</th>\n",
       "      <th>xfrozenlpx</th>\n",
       "      <th>airman</th>\n",
       "      <th>kratom</th>\n",
       "      <th>ghouta</th>\n",
       "    </tr>\n",
       "  </thead>\n",
       "  <tbody>\n",
       "    <tr>\n",
       "      <th>0</th>\n",
       "      <td>0</td>\n",
       "      <td>0</td>\n",
       "      <td>0</td>\n",
       "      <td>0</td>\n",
       "      <td>0</td>\n",
       "      <td>0</td>\n",
       "      <td>0</td>\n",
       "      <td>0</td>\n",
       "      <td>0</td>\n",
       "      <td>0</td>\n",
       "      <td>...</td>\n",
       "      <td>0</td>\n",
       "      <td>0</td>\n",
       "      <td>0</td>\n",
       "      <td>0</td>\n",
       "      <td>0</td>\n",
       "      <td>0</td>\n",
       "      <td>0</td>\n",
       "      <td>0</td>\n",
       "      <td>0</td>\n",
       "      <td>0</td>\n",
       "    </tr>\n",
       "    <tr>\n",
       "      <th>1</th>\n",
       "      <td>0</td>\n",
       "      <td>0</td>\n",
       "      <td>0</td>\n",
       "      <td>0</td>\n",
       "      <td>0</td>\n",
       "      <td>0</td>\n",
       "      <td>0</td>\n",
       "      <td>0</td>\n",
       "      <td>0</td>\n",
       "      <td>0</td>\n",
       "      <td>...</td>\n",
       "      <td>0</td>\n",
       "      <td>0</td>\n",
       "      <td>0</td>\n",
       "      <td>0</td>\n",
       "      <td>0</td>\n",
       "      <td>0</td>\n",
       "      <td>0</td>\n",
       "      <td>0</td>\n",
       "      <td>0</td>\n",
       "      <td>0</td>\n",
       "    </tr>\n",
       "    <tr>\n",
       "      <th>2</th>\n",
       "      <td>0</td>\n",
       "      <td>0</td>\n",
       "      <td>0</td>\n",
       "      <td>0</td>\n",
       "      <td>0</td>\n",
       "      <td>0</td>\n",
       "      <td>0</td>\n",
       "      <td>0</td>\n",
       "      <td>0</td>\n",
       "      <td>0</td>\n",
       "      <td>...</td>\n",
       "      <td>0</td>\n",
       "      <td>0</td>\n",
       "      <td>0</td>\n",
       "      <td>0</td>\n",
       "      <td>0</td>\n",
       "      <td>0</td>\n",
       "      <td>0</td>\n",
       "      <td>0</td>\n",
       "      <td>0</td>\n",
       "      <td>0</td>\n",
       "    </tr>\n",
       "    <tr>\n",
       "      <th>3</th>\n",
       "      <td>0</td>\n",
       "      <td>0</td>\n",
       "      <td>0</td>\n",
       "      <td>0</td>\n",
       "      <td>0</td>\n",
       "      <td>0</td>\n",
       "      <td>0</td>\n",
       "      <td>0</td>\n",
       "      <td>0</td>\n",
       "      <td>0</td>\n",
       "      <td>...</td>\n",
       "      <td>0</td>\n",
       "      <td>0</td>\n",
       "      <td>0</td>\n",
       "      <td>0</td>\n",
       "      <td>0</td>\n",
       "      <td>0</td>\n",
       "      <td>0</td>\n",
       "      <td>0</td>\n",
       "      <td>0</td>\n",
       "      <td>0</td>\n",
       "    </tr>\n",
       "    <tr>\n",
       "      <th>4</th>\n",
       "      <td>0</td>\n",
       "      <td>0</td>\n",
       "      <td>0</td>\n",
       "      <td>0</td>\n",
       "      <td>0</td>\n",
       "      <td>0</td>\n",
       "      <td>0</td>\n",
       "      <td>0</td>\n",
       "      <td>0</td>\n",
       "      <td>0</td>\n",
       "      <td>...</td>\n",
       "      <td>0</td>\n",
       "      <td>0</td>\n",
       "      <td>0</td>\n",
       "      <td>0</td>\n",
       "      <td>0</td>\n",
       "      <td>0</td>\n",
       "      <td>0</td>\n",
       "      <td>0</td>\n",
       "      <td>0</td>\n",
       "      <td>0</td>\n",
       "    </tr>\n",
       "    <tr>\n",
       "      <th>...</th>\n",
       "      <td>...</td>\n",
       "      <td>...</td>\n",
       "      <td>...</td>\n",
       "      <td>...</td>\n",
       "      <td>...</td>\n",
       "      <td>...</td>\n",
       "      <td>...</td>\n",
       "      <td>...</td>\n",
       "      <td>...</td>\n",
       "      <td>...</td>\n",
       "      <td>...</td>\n",
       "      <td>...</td>\n",
       "      <td>...</td>\n",
       "      <td>...</td>\n",
       "      <td>...</td>\n",
       "      <td>...</td>\n",
       "      <td>...</td>\n",
       "      <td>...</td>\n",
       "      <td>...</td>\n",
       "      <td>...</td>\n",
       "      <td>...</td>\n",
       "    </tr>\n",
       "    <tr>\n",
       "      <th>20795</th>\n",
       "      <td>0</td>\n",
       "      <td>0</td>\n",
       "      <td>0</td>\n",
       "      <td>0</td>\n",
       "      <td>0</td>\n",
       "      <td>0</td>\n",
       "      <td>0</td>\n",
       "      <td>0</td>\n",
       "      <td>0</td>\n",
       "      <td>0</td>\n",
       "      <td>...</td>\n",
       "      <td>0</td>\n",
       "      <td>0</td>\n",
       "      <td>0</td>\n",
       "      <td>0</td>\n",
       "      <td>0</td>\n",
       "      <td>0</td>\n",
       "      <td>0</td>\n",
       "      <td>0</td>\n",
       "      <td>0</td>\n",
       "      <td>0</td>\n",
       "    </tr>\n",
       "    <tr>\n",
       "      <th>20796</th>\n",
       "      <td>0</td>\n",
       "      <td>0</td>\n",
       "      <td>0</td>\n",
       "      <td>0</td>\n",
       "      <td>0</td>\n",
       "      <td>0</td>\n",
       "      <td>0</td>\n",
       "      <td>0</td>\n",
       "      <td>0</td>\n",
       "      <td>0</td>\n",
       "      <td>...</td>\n",
       "      <td>0</td>\n",
       "      <td>0</td>\n",
       "      <td>0</td>\n",
       "      <td>0</td>\n",
       "      <td>0</td>\n",
       "      <td>0</td>\n",
       "      <td>0</td>\n",
       "      <td>0</td>\n",
       "      <td>0</td>\n",
       "      <td>0</td>\n",
       "    </tr>\n",
       "    <tr>\n",
       "      <th>20797</th>\n",
       "      <td>0</td>\n",
       "      <td>0</td>\n",
       "      <td>0</td>\n",
       "      <td>0</td>\n",
       "      <td>0</td>\n",
       "      <td>0</td>\n",
       "      <td>0</td>\n",
       "      <td>0</td>\n",
       "      <td>0</td>\n",
       "      <td>0</td>\n",
       "      <td>...</td>\n",
       "      <td>0</td>\n",
       "      <td>0</td>\n",
       "      <td>0</td>\n",
       "      <td>0</td>\n",
       "      <td>0</td>\n",
       "      <td>0</td>\n",
       "      <td>0</td>\n",
       "      <td>0</td>\n",
       "      <td>0</td>\n",
       "      <td>0</td>\n",
       "    </tr>\n",
       "    <tr>\n",
       "      <th>20798</th>\n",
       "      <td>0</td>\n",
       "      <td>0</td>\n",
       "      <td>0</td>\n",
       "      <td>0</td>\n",
       "      <td>0</td>\n",
       "      <td>0</td>\n",
       "      <td>0</td>\n",
       "      <td>0</td>\n",
       "      <td>0</td>\n",
       "      <td>0</td>\n",
       "      <td>...</td>\n",
       "      <td>0</td>\n",
       "      <td>0</td>\n",
       "      <td>0</td>\n",
       "      <td>0</td>\n",
       "      <td>0</td>\n",
       "      <td>0</td>\n",
       "      <td>0</td>\n",
       "      <td>0</td>\n",
       "      <td>0</td>\n",
       "      <td>0</td>\n",
       "    </tr>\n",
       "    <tr>\n",
       "      <th>20799</th>\n",
       "      <td>0</td>\n",
       "      <td>0</td>\n",
       "      <td>0</td>\n",
       "      <td>0</td>\n",
       "      <td>0</td>\n",
       "      <td>0</td>\n",
       "      <td>0</td>\n",
       "      <td>0</td>\n",
       "      <td>0</td>\n",
       "      <td>0</td>\n",
       "      <td>...</td>\n",
       "      <td>0</td>\n",
       "      <td>0</td>\n",
       "      <td>0</td>\n",
       "      <td>0</td>\n",
       "      <td>0</td>\n",
       "      <td>0</td>\n",
       "      <td>0</td>\n",
       "      <td>0</td>\n",
       "      <td>0</td>\n",
       "      <td>0</td>\n",
       "    </tr>\n",
       "  </tbody>\n",
       "</table>\n",
       "<p>20800 rows × 18306 columns</p>\n",
       "</div>"
      ],
      "text/plain": [
       "       darrel  lucu  hous  dem  aid  even  see  comey  letter  jason  ...  \\\n",
       "0           0     0     0    0    0     0    0      0       0      0  ...   \n",
       "1           0     0     0    0    0     0    0      0       0      0  ...   \n",
       "2           0     0     0    0    0     0    0      0       0      0  ...   \n",
       "3           0     0     0    0    0     0    0      0       0      0  ...   \n",
       "4           0     0     0    0    0     0    0      0       0      0  ...   \n",
       "...       ...   ...   ...  ...  ...   ...  ...    ...     ...    ...  ...   \n",
       "20795       0     0     0    0    0     0    0      0       0      0  ...   \n",
       "20796       0     0     0    0    0     0    0      0       0      0  ...   \n",
       "20797       0     0     0    0    0     0    0      0       0      0  ...   \n",
       "20798       0     0     0    0    0     0    0      0       0      0  ...   \n",
       "20799       0     0     0    0    0     0    0      0       0      0  ...   \n",
       "\n",
       "       koala  decompos  samuelson  proclam  instil  004  xfrozenlpx  airman  \\\n",
       "0          0         0          0        0       0    0           0       0   \n",
       "1          0         0          0        0       0    0           0       0   \n",
       "2          0         0          0        0       0    0           0       0   \n",
       "3          0         0          0        0       0    0           0       0   \n",
       "4          0         0          0        0       0    0           0       0   \n",
       "...      ...       ...        ...      ...     ...  ...         ...     ...   \n",
       "20795      0         0          0        0       0    0           0       0   \n",
       "20796      0         0          0        0       0    0           0       0   \n",
       "20797      0         0          0        0       0    0           0       0   \n",
       "20798      0         0          0        0       0    0           0       0   \n",
       "20799      0         0          0        0       0    0           0       0   \n",
       "\n",
       "       kratom  ghouta  \n",
       "0           0       0  \n",
       "1           0       0  \n",
       "2           0       0  \n",
       "3           0       0  \n",
       "4           0       0  \n",
       "...       ...     ...  \n",
       "20795       0       0  \n",
       "20796       0       0  \n",
       "20797       0       0  \n",
       "20798       0       0  \n",
       "20799       0       0  \n",
       "\n",
       "[20800 rows x 18306 columns]"
      ]
     },
     "execution_count": 27,
     "metadata": {},
     "output_type": "execute_result"
    }
   ],
   "source": [
    "pd.DataFrame(X_countvectorlizing.toarray(),columns=countvectorizer.vocabulary_.keys())"
   ]
  },
  {
   "cell_type": "markdown",
   "metadata": {},
   "source": [
    "### 3.3 Tfidf Vectorizer"
   ]
  },
  {
   "cell_type": "markdown",
   "metadata": {},
   "source": [
    "**Convert a collection of raw documents to a matrixof TF-IDF features**"
   ]
  },
  {
   "cell_type": "code",
   "execution_count": 28,
   "metadata": {},
   "outputs": [],
   "source": [
    "from sklearn.feature_extraction.text import TfidfVectorizer\n",
    "tfidf_vectorizer= TfidfVectorizer()\n",
    "tfidf_vectorizer.fit(X)\n",
    "X_tfidfvectorlizing = tfidf_vectorizer.transform(X)"
   ]
  },
  {
   "cell_type": "code",
   "execution_count": 29,
   "metadata": {},
   "outputs": [
    {
     "name": "stdout",
     "output_type": "stream",
     "text": [
      "  (0, 15888)\t0.28625289852735913\n",
      "  (0, 13725)\t0.2580934148486778\n",
      "  (0, 9216)\t0.3630109997931484\n",
      "  (0, 8953)\t0.29165482689235944\n",
      "  (0, 8032)\t0.24745315953469016\n",
      "  (0, 7348)\t0.2191666713936137\n",
      "  (0, 5344)\t0.23294133258177097\n",
      "  (0, 4157)\t0.2700976964996027\n",
      "  (0, 3970)\t0.3593144988552644\n",
      "  (0, 3339)\t0.24669676636021745\n",
      "  (0, 2881)\t0.367060058447611\n",
      "  (0, 690)\t0.27097366487431873\n",
      "  (1, 16982)\t0.30091461340148384\n",
      "  (1, 7168)\t0.19097333855189003\n",
      "  (1, 5870)\t0.7130781988000774\n",
      "  (1, 3938)\t0.263275534445284\n",
      "  (1, 3195)\t0.19154202675981094\n",
      "  (1, 2623)\t0.38394698030281466\n",
      "  (1, 2297)\t0.15496739045917518\n",
      "  (1, 1908)\t0.2950703830575609\n",
      "  (2, 15812)\t0.5038529465718563\n",
      "  (2, 9931)\t0.5926575280742765\n",
      "  (2, 6338)\t0.4172631176818622\n",
      "  (2, 5758)\t0.46987312465191994\n",
      "  (3, 16236)\t0.21417585569235162\n",
      "  :\t:\n",
      "  (20797, 13380)\t0.24822994603476345\n",
      "  (20797, 12616)\t0.2726096590475358\n",
      "  (20797, 12418)\t0.24775993102017302\n",
      "  (20797, 10603)\t0.08039584481660617\n",
      "  (20797, 9900)\t0.1745375268446896\n",
      "  (20797, 9833)\t0.2953934002334147\n",
      "  (20797, 9305)\t0.36157563985752356\n",
      "  (20797, 8699)\t0.22320545685553367\n",
      "  (20797, 7384)\t0.21797056561865097\n",
      "  (20797, 4012)\t0.21189601388534898\n",
      "  (20797, 1701)\t0.33534991575146017\n",
      "  (20797, 1118)\t0.306830415301233\n",
      "  (20797, 469)\t0.29707526476941293\n",
      "  (20798, 13297)\t0.22586346113257363\n",
      "  (20798, 11327)\t0.44528549776374227\n",
      "  (20798, 10483)\t0.32076106031980023\n",
      "  (20798, 7235)\t0.32440475683914743\n",
      "  (20798, 5403)\t0.40766879896092945\n",
      "  (20798, 1540)\t0.44528549776374227\n",
      "  (20798, 1007)\t0.31067966476138686\n",
      "  (20798, 770)\t0.2856318260767935\n",
      "  (20799, 15072)\t0.5677577267055112\n",
      "  (20799, 8378)\t0.45983893273780013\n",
      "  (20799, 3993)\t0.37927626273066584\n",
      "  (20799, 798)\t0.5677577267055112\n"
     ]
    }
   ],
   "source": [
    "print(X_tfidfvectorlizing)"
   ]
  },
  {
   "cell_type": "code",
   "execution_count": 30,
   "metadata": {},
   "outputs": [
    {
     "data": {
      "text/html": [
       "<div>\n",
       "<style scoped>\n",
       "    .dataframe tbody tr th:only-of-type {\n",
       "        vertical-align: middle;\n",
       "    }\n",
       "\n",
       "    .dataframe tbody tr th {\n",
       "        vertical-align: top;\n",
       "    }\n",
       "\n",
       "    .dataframe thead th {\n",
       "        text-align: right;\n",
       "    }\n",
       "</style>\n",
       "<table border=\"1\" class=\"dataframe\">\n",
       "  <thead>\n",
       "    <tr style=\"text-align: right;\">\n",
       "      <th></th>\n",
       "      <th>darrel</th>\n",
       "      <th>lucu</th>\n",
       "      <th>hous</th>\n",
       "      <th>dem</th>\n",
       "      <th>aid</th>\n",
       "      <th>even</th>\n",
       "      <th>see</th>\n",
       "      <th>comey</th>\n",
       "      <th>letter</th>\n",
       "      <th>jason</th>\n",
       "      <th>...</th>\n",
       "      <th>koala</th>\n",
       "      <th>decompos</th>\n",
       "      <th>samuelson</th>\n",
       "      <th>proclam</th>\n",
       "      <th>instil</th>\n",
       "      <th>004</th>\n",
       "      <th>xfrozenlpx</th>\n",
       "      <th>airman</th>\n",
       "      <th>kratom</th>\n",
       "      <th>ghouta</th>\n",
       "    </tr>\n",
       "  </thead>\n",
       "  <tbody>\n",
       "    <tr>\n",
       "      <th>0</th>\n",
       "      <td>0.0</td>\n",
       "      <td>0.0</td>\n",
       "      <td>0.0</td>\n",
       "      <td>0.0</td>\n",
       "      <td>0.0</td>\n",
       "      <td>0.0</td>\n",
       "      <td>0.0</td>\n",
       "      <td>0.0</td>\n",
       "      <td>0.0</td>\n",
       "      <td>0.0</td>\n",
       "      <td>...</td>\n",
       "      <td>0.0</td>\n",
       "      <td>0.0</td>\n",
       "      <td>0.0</td>\n",
       "      <td>0.0</td>\n",
       "      <td>0.0</td>\n",
       "      <td>0.0</td>\n",
       "      <td>0.0</td>\n",
       "      <td>0.0</td>\n",
       "      <td>0.0</td>\n",
       "      <td>0.0</td>\n",
       "    </tr>\n",
       "    <tr>\n",
       "      <th>1</th>\n",
       "      <td>0.0</td>\n",
       "      <td>0.0</td>\n",
       "      <td>0.0</td>\n",
       "      <td>0.0</td>\n",
       "      <td>0.0</td>\n",
       "      <td>0.0</td>\n",
       "      <td>0.0</td>\n",
       "      <td>0.0</td>\n",
       "      <td>0.0</td>\n",
       "      <td>0.0</td>\n",
       "      <td>...</td>\n",
       "      <td>0.0</td>\n",
       "      <td>0.0</td>\n",
       "      <td>0.0</td>\n",
       "      <td>0.0</td>\n",
       "      <td>0.0</td>\n",
       "      <td>0.0</td>\n",
       "      <td>0.0</td>\n",
       "      <td>0.0</td>\n",
       "      <td>0.0</td>\n",
       "      <td>0.0</td>\n",
       "    </tr>\n",
       "    <tr>\n",
       "      <th>2</th>\n",
       "      <td>0.0</td>\n",
       "      <td>0.0</td>\n",
       "      <td>0.0</td>\n",
       "      <td>0.0</td>\n",
       "      <td>0.0</td>\n",
       "      <td>0.0</td>\n",
       "      <td>0.0</td>\n",
       "      <td>0.0</td>\n",
       "      <td>0.0</td>\n",
       "      <td>0.0</td>\n",
       "      <td>...</td>\n",
       "      <td>0.0</td>\n",
       "      <td>0.0</td>\n",
       "      <td>0.0</td>\n",
       "      <td>0.0</td>\n",
       "      <td>0.0</td>\n",
       "      <td>0.0</td>\n",
       "      <td>0.0</td>\n",
       "      <td>0.0</td>\n",
       "      <td>0.0</td>\n",
       "      <td>0.0</td>\n",
       "    </tr>\n",
       "    <tr>\n",
       "      <th>3</th>\n",
       "      <td>0.0</td>\n",
       "      <td>0.0</td>\n",
       "      <td>0.0</td>\n",
       "      <td>0.0</td>\n",
       "      <td>0.0</td>\n",
       "      <td>0.0</td>\n",
       "      <td>0.0</td>\n",
       "      <td>0.0</td>\n",
       "      <td>0.0</td>\n",
       "      <td>0.0</td>\n",
       "      <td>...</td>\n",
       "      <td>0.0</td>\n",
       "      <td>0.0</td>\n",
       "      <td>0.0</td>\n",
       "      <td>0.0</td>\n",
       "      <td>0.0</td>\n",
       "      <td>0.0</td>\n",
       "      <td>0.0</td>\n",
       "      <td>0.0</td>\n",
       "      <td>0.0</td>\n",
       "      <td>0.0</td>\n",
       "    </tr>\n",
       "    <tr>\n",
       "      <th>4</th>\n",
       "      <td>0.0</td>\n",
       "      <td>0.0</td>\n",
       "      <td>0.0</td>\n",
       "      <td>0.0</td>\n",
       "      <td>0.0</td>\n",
       "      <td>0.0</td>\n",
       "      <td>0.0</td>\n",
       "      <td>0.0</td>\n",
       "      <td>0.0</td>\n",
       "      <td>0.0</td>\n",
       "      <td>...</td>\n",
       "      <td>0.0</td>\n",
       "      <td>0.0</td>\n",
       "      <td>0.0</td>\n",
       "      <td>0.0</td>\n",
       "      <td>0.0</td>\n",
       "      <td>0.0</td>\n",
       "      <td>0.0</td>\n",
       "      <td>0.0</td>\n",
       "      <td>0.0</td>\n",
       "      <td>0.0</td>\n",
       "    </tr>\n",
       "    <tr>\n",
       "      <th>...</th>\n",
       "      <td>...</td>\n",
       "      <td>...</td>\n",
       "      <td>...</td>\n",
       "      <td>...</td>\n",
       "      <td>...</td>\n",
       "      <td>...</td>\n",
       "      <td>...</td>\n",
       "      <td>...</td>\n",
       "      <td>...</td>\n",
       "      <td>...</td>\n",
       "      <td>...</td>\n",
       "      <td>...</td>\n",
       "      <td>...</td>\n",
       "      <td>...</td>\n",
       "      <td>...</td>\n",
       "      <td>...</td>\n",
       "      <td>...</td>\n",
       "      <td>...</td>\n",
       "      <td>...</td>\n",
       "      <td>...</td>\n",
       "      <td>...</td>\n",
       "    </tr>\n",
       "    <tr>\n",
       "      <th>20795</th>\n",
       "      <td>0.0</td>\n",
       "      <td>0.0</td>\n",
       "      <td>0.0</td>\n",
       "      <td>0.0</td>\n",
       "      <td>0.0</td>\n",
       "      <td>0.0</td>\n",
       "      <td>0.0</td>\n",
       "      <td>0.0</td>\n",
       "      <td>0.0</td>\n",
       "      <td>0.0</td>\n",
       "      <td>...</td>\n",
       "      <td>0.0</td>\n",
       "      <td>0.0</td>\n",
       "      <td>0.0</td>\n",
       "      <td>0.0</td>\n",
       "      <td>0.0</td>\n",
       "      <td>0.0</td>\n",
       "      <td>0.0</td>\n",
       "      <td>0.0</td>\n",
       "      <td>0.0</td>\n",
       "      <td>0.0</td>\n",
       "    </tr>\n",
       "    <tr>\n",
       "      <th>20796</th>\n",
       "      <td>0.0</td>\n",
       "      <td>0.0</td>\n",
       "      <td>0.0</td>\n",
       "      <td>0.0</td>\n",
       "      <td>0.0</td>\n",
       "      <td>0.0</td>\n",
       "      <td>0.0</td>\n",
       "      <td>0.0</td>\n",
       "      <td>0.0</td>\n",
       "      <td>0.0</td>\n",
       "      <td>...</td>\n",
       "      <td>0.0</td>\n",
       "      <td>0.0</td>\n",
       "      <td>0.0</td>\n",
       "      <td>0.0</td>\n",
       "      <td>0.0</td>\n",
       "      <td>0.0</td>\n",
       "      <td>0.0</td>\n",
       "      <td>0.0</td>\n",
       "      <td>0.0</td>\n",
       "      <td>0.0</td>\n",
       "    </tr>\n",
       "    <tr>\n",
       "      <th>20797</th>\n",
       "      <td>0.0</td>\n",
       "      <td>0.0</td>\n",
       "      <td>0.0</td>\n",
       "      <td>0.0</td>\n",
       "      <td>0.0</td>\n",
       "      <td>0.0</td>\n",
       "      <td>0.0</td>\n",
       "      <td>0.0</td>\n",
       "      <td>0.0</td>\n",
       "      <td>0.0</td>\n",
       "      <td>...</td>\n",
       "      <td>0.0</td>\n",
       "      <td>0.0</td>\n",
       "      <td>0.0</td>\n",
       "      <td>0.0</td>\n",
       "      <td>0.0</td>\n",
       "      <td>0.0</td>\n",
       "      <td>0.0</td>\n",
       "      <td>0.0</td>\n",
       "      <td>0.0</td>\n",
       "      <td>0.0</td>\n",
       "    </tr>\n",
       "    <tr>\n",
       "      <th>20798</th>\n",
       "      <td>0.0</td>\n",
       "      <td>0.0</td>\n",
       "      <td>0.0</td>\n",
       "      <td>0.0</td>\n",
       "      <td>0.0</td>\n",
       "      <td>0.0</td>\n",
       "      <td>0.0</td>\n",
       "      <td>0.0</td>\n",
       "      <td>0.0</td>\n",
       "      <td>0.0</td>\n",
       "      <td>...</td>\n",
       "      <td>0.0</td>\n",
       "      <td>0.0</td>\n",
       "      <td>0.0</td>\n",
       "      <td>0.0</td>\n",
       "      <td>0.0</td>\n",
       "      <td>0.0</td>\n",
       "      <td>0.0</td>\n",
       "      <td>0.0</td>\n",
       "      <td>0.0</td>\n",
       "      <td>0.0</td>\n",
       "    </tr>\n",
       "    <tr>\n",
       "      <th>20799</th>\n",
       "      <td>0.0</td>\n",
       "      <td>0.0</td>\n",
       "      <td>0.0</td>\n",
       "      <td>0.0</td>\n",
       "      <td>0.0</td>\n",
       "      <td>0.0</td>\n",
       "      <td>0.0</td>\n",
       "      <td>0.0</td>\n",
       "      <td>0.0</td>\n",
       "      <td>0.0</td>\n",
       "      <td>...</td>\n",
       "      <td>0.0</td>\n",
       "      <td>0.0</td>\n",
       "      <td>0.0</td>\n",
       "      <td>0.0</td>\n",
       "      <td>0.0</td>\n",
       "      <td>0.0</td>\n",
       "      <td>0.0</td>\n",
       "      <td>0.0</td>\n",
       "      <td>0.0</td>\n",
       "      <td>0.0</td>\n",
       "    </tr>\n",
       "  </tbody>\n",
       "</table>\n",
       "<p>20800 rows × 18306 columns</p>\n",
       "</div>"
      ],
      "text/plain": [
       "       darrel  lucu  hous  dem  aid  even  see  comey  letter  jason  ...  \\\n",
       "0         0.0   0.0   0.0  0.0  0.0   0.0  0.0    0.0     0.0    0.0  ...   \n",
       "1         0.0   0.0   0.0  0.0  0.0   0.0  0.0    0.0     0.0    0.0  ...   \n",
       "2         0.0   0.0   0.0  0.0  0.0   0.0  0.0    0.0     0.0    0.0  ...   \n",
       "3         0.0   0.0   0.0  0.0  0.0   0.0  0.0    0.0     0.0    0.0  ...   \n",
       "4         0.0   0.0   0.0  0.0  0.0   0.0  0.0    0.0     0.0    0.0  ...   \n",
       "...       ...   ...   ...  ...  ...   ...  ...    ...     ...    ...  ...   \n",
       "20795     0.0   0.0   0.0  0.0  0.0   0.0  0.0    0.0     0.0    0.0  ...   \n",
       "20796     0.0   0.0   0.0  0.0  0.0   0.0  0.0    0.0     0.0    0.0  ...   \n",
       "20797     0.0   0.0   0.0  0.0  0.0   0.0  0.0    0.0     0.0    0.0  ...   \n",
       "20798     0.0   0.0   0.0  0.0  0.0   0.0  0.0    0.0     0.0    0.0  ...   \n",
       "20799     0.0   0.0   0.0  0.0  0.0   0.0  0.0    0.0     0.0    0.0  ...   \n",
       "\n",
       "       koala  decompos  samuelson  proclam  instil  004  xfrozenlpx  airman  \\\n",
       "0        0.0       0.0        0.0      0.0     0.0  0.0         0.0     0.0   \n",
       "1        0.0       0.0        0.0      0.0     0.0  0.0         0.0     0.0   \n",
       "2        0.0       0.0        0.0      0.0     0.0  0.0         0.0     0.0   \n",
       "3        0.0       0.0        0.0      0.0     0.0  0.0         0.0     0.0   \n",
       "4        0.0       0.0        0.0      0.0     0.0  0.0         0.0     0.0   \n",
       "...      ...       ...        ...      ...     ...  ...         ...     ...   \n",
       "20795    0.0       0.0        0.0      0.0     0.0  0.0         0.0     0.0   \n",
       "20796    0.0       0.0        0.0      0.0     0.0  0.0         0.0     0.0   \n",
       "20797    0.0       0.0        0.0      0.0     0.0  0.0         0.0     0.0   \n",
       "20798    0.0       0.0        0.0      0.0     0.0  0.0         0.0     0.0   \n",
       "20799    0.0       0.0        0.0      0.0     0.0  0.0         0.0     0.0   \n",
       "\n",
       "       kratom  ghouta  \n",
       "0         0.0     0.0  \n",
       "1         0.0     0.0  \n",
       "2         0.0     0.0  \n",
       "3         0.0     0.0  \n",
       "4         0.0     0.0  \n",
       "...       ...     ...  \n",
       "20795     0.0     0.0  \n",
       "20796     0.0     0.0  \n",
       "20797     0.0     0.0  \n",
       "20798     0.0     0.0  \n",
       "20799     0.0     0.0  \n",
       "\n",
       "[20800 rows x 18306 columns]"
      ]
     },
     "execution_count": 30,
     "metadata": {},
     "output_type": "execute_result"
    }
   ],
   "source": [
    "pd.DataFrame(X_tfidfvectorlizing.toarray(),columns=tfidf_vectorizer.vocabulary_.keys())"
   ]
  },
  {
   "cell_type": "markdown",
   "metadata": {},
   "source": [
    "## 04. Split  Vectoralizing Dataset To [X_train, X_test, y_train, y_test ]"
   ]
  },
  {
   "cell_type": "markdown",
   "metadata": {},
   "source": [
    "#### 4.1 Binary vectorlization"
   ]
  },
  {
   "cell_type": "code",
   "execution_count": 31,
   "metadata": {},
   "outputs": [],
   "source": [
    "from sklearn.model_selection import train_test_split\n",
    "BX_train, BX_test, By_train, By_test = train_test_split(X_Binaryvectorlizing.toarray(), y, test_size = 0.2, random_state=29102000)"
   ]
  },
  {
   "cell_type": "markdown",
   "metadata": {},
   "source": [
    "#### 4.2 Count vectorlization "
   ]
  },
  {
   "cell_type": "code",
   "execution_count": 32,
   "metadata": {},
   "outputs": [],
   "source": [
    "from sklearn.model_selection import train_test_split\n",
    "CX_train, CX_test, Cy_train, Cy_test = train_test_split(X_countvectorlizing.toarray(), y, test_size = 0.2, random_state=29102000)"
   ]
  },
  {
   "cell_type": "markdown",
   "metadata": {},
   "source": [
    "#### 4.3 Tfidf Vectorizer"
   ]
  },
  {
   "cell_type": "code",
   "execution_count": 33,
   "metadata": {},
   "outputs": [],
   "source": [
    "from sklearn.model_selection import train_test_split\n",
    "TFX_train, TFX_test, TFy_train, TFy_test = train_test_split(X_tfidfvectorlizing.toarray(), y, test_size = 0.2, random_state=29102000)"
   ]
  },
  {
   "cell_type": "markdown",
   "metadata": {},
   "source": [
    "## 05. Building Model"
   ]
  },
  {
   "cell_type": "code",
   "execution_count": 34,
   "metadata": {},
   "outputs": [],
   "source": [
    "def Building_Model(model,X_train, X_test, y_train, y_test):\n",
    "    # make an object from model\n",
    "    model_object = model()\n",
    "    # fit model And predict the test\n",
    "    pred = model_object.fit(X_train, y_train).predict(X_test)\n",
    "    # calculate the score\n",
    "    acc=accuracy_score(pred, y_test)\n",
    "    print(f'Accuracy score  : {acc*100:.4f}')\n",
    "    print(\"\\n-------------------\\n\")\n",
    "    # make a confusion_matrix\n",
    "    cfmatrix=confusion_matrix(y_test, pred)\n",
    "    print(f\"Confusion Matrix :\\n {cfmatrix}\")\n",
    "    # visualize the Confusion Matrix\n",
    "    sns.heatmap(cfmatrix, annot=True,)\n",
    "    plt.title(\"Confusion Matrix\")\n",
    "    plt.show()    "
   ]
  },
  {
   "cell_type": "markdown",
   "metadata": {},
   "source": [
    "### 5.1 Binary vectorlization"
   ]
  },
  {
   "cell_type": "markdown",
   "metadata": {},
   "source": [
    "**1. MultinomialNB Naive Bayes**"
   ]
  },
  {
   "cell_type": "code",
   "execution_count": 35,
   "metadata": {},
   "outputs": [
    {
     "name": "stdout",
     "output_type": "stream",
     "text": [
      "Accuracy score  : 96.0817\n",
      "\n",
      "-------------------\n",
      "\n",
      "Confusion Matrix :\n",
      " [[2019   18]\n",
      " [ 145 1978]]\n"
     ]
    },
    {
     "data": {
      "image/png": "[encoded data removed]",
      "text/plain": [
       "<Figure size 640x480 with 2 Axes>"
      ]
     },
     "metadata": {},
     "output_type": "display_data"
    }
   ],
   "source": [
    "Building_Model(MultinomialNB,BX_train, BX_test, By_train, By_test)"
   ]
  },
  {
   "cell_type": "markdown",
   "metadata": {},
   "source": [
    "**2. LogisticRegression**"
   ]
  },
  {
   "cell_type": "code",
   "execution_count": 36,
   "metadata": {},
   "outputs": [
    {
     "name": "stdout",
     "output_type": "stream",
     "text": [
      "Accuracy score  : 98.8221\n",
      "\n",
      "-------------------\n",
      "\n",
      "Confusion Matrix :\n",
      " [[1995   42]\n",
      " [   7 2116]]\n"
     ]
    },
    {
     "data": {
      "image/png": "[encoded data removed]",
      "text/plain": [
       "<Figure size 640x480 with 2 Axes>"
      ]
     },
     "metadata": {},
     "output_type": "display_data"
    }
   ],
   "source": [
    "Building_Model(LogisticRegression,BX_train, BX_test, By_train, By_test)"
   ]
  },
  {
   "cell_type": "markdown",
   "metadata": {},
   "source": [
    "**3. GradientBoostingClassifier**"
   ]
  },
  {
   "cell_type": "code",
   "execution_count": 37,
   "metadata": {},
   "outputs": [],
   "source": [
    "#Building_Model(GradientBoostingClassifier,BX_train, BX_test, By_train, By_test)"
   ]
  },
  {
   "cell_type": "markdown",
   "metadata": {},
   "source": [
    "**4. svmclassifair**"
   ]
  },
  {
   "cell_type": "code",
   "execution_count": 38,
   "metadata": {},
   "outputs": [],
   "source": [
    "#Building_Model(SVC,BX_train, BX_test, By_train, By_test)"
   ]
  },
  {
   "cell_type": "markdown",
   "metadata": {},
   "source": [
    "### 5.2 Count vectorlization "
   ]
  },
  {
   "cell_type": "markdown",
   "metadata": {},
   "source": [
    "**1. MultinomialNB Naive Bayes**"
   ]
  },
  {
   "cell_type": "code",
   "execution_count": 40,
   "metadata": {},
   "outputs": [
    {
     "name": "stdout",
     "output_type": "stream",
     "text": [
      "Accuracy score  : 96.0337\n",
      "\n",
      "-------------------\n",
      "\n",
      "Confusion Matrix :\n",
      " [[2017   20]\n",
      " [ 145 1978]]\n"
     ]
    },
    {
     "data": {
      "image/png": "[encoded data removed]",
      "text/plain": [
       "<Figure size 640x480 with 2 Axes>"
      ]
     },
     "metadata": {},
     "output_type": "display_data"
    }
   ],
   "source": [
    "Building_Model(MultinomialNB, CX_train, CX_test, Cy_train, Cy_test)"
   ]
  },
  {
   "cell_type": "markdown",
   "metadata": {},
   "source": [
    "**2. LogisticRegression**"
   ]
  },
  {
   "cell_type": "code",
   "execution_count": 41,
   "metadata": {},
   "outputs": [
    {
     "name": "stdout",
     "output_type": "stream",
     "text": [
      "Accuracy score  : 99.0144\n",
      "\n",
      "-------------------\n",
      "\n",
      "Confusion Matrix :\n",
      " [[2004   33]\n",
      " [   8 2115]]\n"
     ]
    },
    {
     "data": {
      "image/png": "[encoded data removed]",
      "text/plain": [
       "<Figure size 640x480 with 2 Axes>"
      ]
     },
     "metadata": {},
     "output_type": "display_data"
    }
   ],
   "source": [
    "Building_Model(LogisticRegression,CX_train, CX_test, Cy_train, Cy_test)"
   ]
  },
  {
   "cell_type": "markdown",
   "metadata": {},
   "source": [
    "**3. GradientBoostingClassifier**"
   ]
  },
  {
   "cell_type": "code",
   "execution_count": 42,
   "metadata": {},
   "outputs": [],
   "source": [
    "#Building_Model(GradientBoostingClassifier,CX_train, CX_test, Cy_train, Cy_test)"
   ]
  },
  {
   "cell_type": "markdown",
   "metadata": {},
   "source": [
    "**4. svmclassifair**"
   ]
  },
  {
   "cell_type": "code",
   "execution_count": 43,
   "metadata": {},
   "outputs": [],
   "source": [
    "#Building_Model(SVC,TFX_train, CX_train, CX_test, Cy_train, Cy_test)"
   ]
  },
  {
   "cell_type": "markdown",
   "metadata": {},
   "source": [
    "### 5.3 Tfidf Vectorizer"
   ]
  },
  {
   "cell_type": "markdown",
   "metadata": {},
   "source": [
    "**1. MultinomialNB Naive Bayes**"
   ]
  },
  {
   "cell_type": "code",
   "execution_count": 44,
   "metadata": {},
   "outputs": [
    {
     "name": "stdout",
     "output_type": "stream",
     "text": [
      "Accuracy score  : 94.7115\n",
      "\n",
      "-------------------\n",
      "\n",
      "Confusion Matrix :\n",
      " [[2021   16]\n",
      " [ 204 1919]]\n"
     ]
    },
    {
     "data": {
      "image/png": "[encoded data removed]",
      "text/plain": [
       "<Figure size 640x480 with 2 Axes>"
      ]
     },
     "metadata": {},
     "output_type": "display_data"
    }
   ],
   "source": [
    "Building_Model(MultinomialNB,TFX_train, TFX_test, TFy_train, TFy_test)"
   ]
  },
  {
   "cell_type": "markdown",
   "metadata": {},
   "source": [
    "**2. LogisticRegression**"
   ]
  },
  {
   "cell_type": "code",
   "execution_count": 45,
   "metadata": {},
   "outputs": [
    {
     "name": "stdout",
     "output_type": "stream",
     "text": [
      "Accuracy score  : 97.5000\n",
      "\n",
      "-------------------\n",
      "\n",
      "Confusion Matrix :\n",
      " [[1956   81]\n",
      " [  23 2100]]\n"
     ]
    },
    {
     "data": {
      "image/png": "[encoded data removed]",
      "text/plain": [
       "<Figure size 640x480 with 2 Axes>"
      ]
     },
     "metadata": {},
     "output_type": "display_data"
    }
   ],
   "source": [
    "Building_Model(LogisticRegression,TFX_train, TFX_test, TFy_train, TFy_test)"
   ]
  },
  {
   "cell_type": "markdown",
   "metadata": {},
   "source": [
    "**3. GradientBoostingClassifier**"
   ]
  },
  {
   "cell_type": "code",
   "execution_count": 46,
   "metadata": {},
   "outputs": [],
   "source": [
    "#Building_Model(GradientBoostingClassifier,TFX_train, TFX_test, TFy_train, TFy_test)"
   ]
  },
  {
   "cell_type": "markdown",
   "metadata": {},
   "source": [
    "**4. svmclassifair**"
   ]
  },
  {
   "cell_type": "code",
   "execution_count": 47,
   "metadata": {},
   "outputs": [],
   "source": [
    "#Building_Model(SVC,TFX_train, TFX_test, TFy_train, TFy_test)"
   ]
  },
  {
   "cell_type": "code",
   "execution_count": null,
   "metadata": {},
   "outputs": [],
   "source": []
  }
 ],
 "metadata": {
  "kernelspec": {
   "display_name": "Python 3 (ipykernel)",
   "language": "python",
   "name": "python3"
  },
  "language_info": {
   "codemirror_mode": {
    "name": "ipython",
    "version": 3
   },
   "file_extension": ".py",
   "mimetype": "text/x-python",
   "name": "python",
   "nbconvert_exporter": "python",
   "pygments_lexer": "ipython3",
   "version": "3.10.6"
  },
  "vscode": {
   "interpreter": {
    "hash": "0ef27332062e270eeee012384490b4dc8741dbe53e6bc043453029cdaffedcd5"
   }
  }
 },
 "nbformat": 4,
 "nbformat_minor": 2
}
